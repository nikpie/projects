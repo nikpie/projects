{
 "cells": [
  {
   "cell_type": "code",
   "execution_count": 18,
   "metadata": {},
   "outputs": [],
   "source": [
    "import requests\n",
    "from bs4 import BeautifulSoup\n",
    "import pandas as pd\n",
    "import re"
   ]
  },
  {
   "cell_type": "code",
   "execution_count": 2,
   "metadata": {},
   "outputs": [],
   "source": [
    "url = \"http://www.ringpolska.pl\"\n",
    "headers = {'User-Agent': 'Mozilla/5.0 (Macintosh; Intel Mac OS X 10_10_1) AppleWebKit/537.36 (KHTML, like Gecko) Chrome/39.0.2171.95 Safari/537.36'}\n",
    "\n",
    "response = requests.get(url, headers=headers)\n",
    "\n",
    "soup = BeautifulSoup(response.text, 'lxml')\n",
    "body = soup.find('div', class_= \"art-layout-cell art-content\")"
   ]
  },
  {
   "cell_type": "code",
   "execution_count": 3,
   "metadata": {},
   "outputs": [
    {
     "name": "stdout",
     "output_type": "stream",
     "text": [
      "Zaplanowana na 15 czerwca w Rydze półfinałowa gala World Boxing Super Series, na której Krzysztof Głowacki (31-1, 19 KO) zmierzy się z Mairisem Briedisem (25-1, 18 KO), a Yunier Dorticos (23-1, 21 KO) stanie naprzeciw Andrew Tabitiego (17-0, 13 KO), cieszy się ogromnym zainteresowaniem ze strony kibiców.\n",
      "- To fantastyczna sprawa dla lokalnej publiczności móc zobaczyć mnie dwa razy z rzędu z zawodnikami ze światowego top-3 - najpierw mierzyłem się z Oleksandrem Usykiem, teraz spotkam się z Krzysztofem Głowackim. To bardzo rzadka rzecz w boksie i coś, czego w innych krajach mogą nam zazdrościć - mówi Briedis, mający na Łotwie status wielkiej sportowej gwiazdy.\n"
     ]
    }
   ],
   "source": [
    "keys = ('Szpilka|Głowacki')\n",
    "#to je toooooooooo\n",
    "for url in body.find_all('p'):\n",
    "    if re.findall(keys, str(url)):\n",
    "        print(url.text)"
   ]
  },
  {
   "cell_type": "code",
   "execution_count": null,
   "metadata": {},
   "outputs": [],
   "source": []
  },
  {
   "cell_type": "code",
   "execution_count": null,
   "metadata": {},
   "outputs": [],
   "source": []
  },
  {
   "cell_type": "code",
   "execution_count": null,
   "metadata": {},
   "outputs": [],
   "source": []
  },
  {
   "cell_type": "code",
   "execution_count": 33,
   "metadata": {},
   "outputs": [],
   "source": [
    "url = \"https://dsdik.wroc.pl/dsdik/aktualnosci.html\"\n",
    "headers = {'User-Agent': 'Mozilla/5.0 (Macintosh; Intel Mac OS X 10_10_1) AppleWebKit/537.36 (KHTML, like Gecko) Chrome/39.0.2171.95 Safari/537.36'}\n",
    "\n",
    "response = requests.get(url, headers=headers)\n",
    "\n",
    "soup = BeautifulSoup(response.text, 'lxml')\n",
    "#body = soup.find('td', class_= \"article_column\")\n"
   ]
  },
  {
   "cell_type": "code",
   "execution_count": 34,
   "metadata": {},
   "outputs": [
    {
     "name": "stdout",
     "output_type": "stream",
     "text": [
      "https://dsdik.wroc.pl//dsdik/aktualnosci/2986-2019-02-18-13-55-57.html?tmpl=component&print=1&layout=default&page= Prace adaptacyjne bryły budynku, nowe pomieszczenia biurowe, wyremontowane łazienki, nowa sieć komputerowa z pewnością poprawią komfort pracy naszych pracowników. \r\n",
      "Wykonawcą przedsięwzięcia było Konsorcjum Firm: Lider Konsorcjum GREEN HEAT Jacek Włodyka z Jeszkowic 55-003 przy ul. Międzywałowej 8 oraz Partner Konsorcjum GREEN HEAT Monika Włodyka z Jeszkowic 55-003.\n",
      "\n",
      "https://dsdik.wroc.pl//dsdik/aktualnosci/2974-most-w-mirsku-przechodzi-remont-utrudnienia.html?tmpl=component&print=1&layout=default&page= W związku z przystąpieniem do realizacji planowanej inwestycji pod nazwą: “Remont mostu w ciągu DW 361 w km 5+395 nad rzeka Kwisa w miejscowości Mirsk.” oraz planowanym przez Wykonawcę robót w dniu 05.02.2019 r. wdrożeniem tymczasowej organizacji ruchu na przedmiotowym zadaniu informujemy, że wprowadzony zostanie ruch wahadłowy pojazdów sterowany sygnalizacją świetlną  pojazdów, z wygrodzeniem jednej połowy jezdni poprzez znaki U-3d , U-20a, oraz ograniczeniem predkości pojazdów do 40km/h.\n",
      "https://dsdik.wroc.pl//dsdik/aktualnosci/2965-spotkanie-noworoczne.html?tmpl=component&print=1&layout=default&page= w dniu dzisiejszym było okazją do przedstawienia Członka Zarządu odpowiedzialnego za infrastrukturę drogową - Pana Tymoteusza Myrdy oraz złożenia podziękowań przez Dyrektora Leszka Locha pracownikom DSDiK za pracę i osiągnięcia ubiegłego roku. Jak podkreślił Dyrektor Loch jest za co dziękować, rok 2018 przyniósł najwyższy w historii ZDW i DSDiK przerób na zadania inwestycyjne i remontowe. W kwocie wydanych środków ca 354,6 mln zł, prawie 100 mln zł wydatkowanych zostało na remonty, przebudowy ok.100 km dróg i infrastruktury drogowej, a blisko 20 mln na remonty i przebudowy mostów ( 38 mostów), pozostała część została wydana na inwestycje. Na zakończenie życząc pracownikom i ich rodzinom pomyślności i sukcesów w Nowym Roku poinformowali, że ten rok będzie wymagał od nas wszystkich wielkiego zaangażowania i wysiłku, albowiem plany i zamierzenia, ale i oczekiwania są ogromne i mamy przed sobą ambitne zadania do zrealizowania. Na ich realizację czekają mieszkańcy Dolnego Śląska. \n"
     ]
    }
   ],
   "source": [
    "keys = ('remont|utrudnienia|zamknięta|zamknięcie|otwarcie drogi|otwarcie obwodnicy')\n",
    "#to je toooooooooo\n",
    "for url in soup.find_all('p'):\n",
    "    if re.findall(keys, str(url).lower()):\n",
    "        #print(url.text, url.find_previous(\"a\"))\n",
    "        a= url.find_previous(\"a\")\n",
    "        print ('https://dsdik.wroc.pl/' + a['href'], url.text)"
   ]
  },
  {
   "cell_type": "code",
   "execution_count": 4,
   "metadata": {},
   "outputs": [],
   "source": [
    "body = soup.find('div', class_= \"art-layout-cell art-content\")"
   ]
  },
  {
   "cell_type": "code",
   "execution_count": null,
   "metadata": {},
   "outputs": [],
   "source": []
  },
  {
   "cell_type": "code",
   "execution_count": 20,
   "metadata": {},
   "outputs": [],
   "source": [
    "url = \"https://www.skyscrapercity.com/showthread.php?t=363769&page=10000.html\"\n",
    "headers = {'User-Agent': 'Mozilla/5.0 (Macintosh; Intel Mac OS X 10_10_1) AppleWebKit/537.36 (KHTML, like Gecko) Chrome/39.0.2171.95 Safari/537.36'}\n",
    "\n",
    "response = requests.get(url, headers=headers)\n",
    "\n",
    "soup = BeautifulSoup(response.text, 'lxml')"
   ]
  },
  {
   "cell_type": "code",
   "execution_count": 7,
   "metadata": {},
   "outputs": [],
   "source": [
    "keys = ('przetargi')\n",
    "#to je toooooooooo\n",
    "for url in soup.find_all('p'):\n",
    "    if re.findall(keys, str(url).lower()):\n",
    "        #print(url.text, url.find_previous(\"a\"))\n",
    "        a= url.find_previous(\"a\")\n",
    "        print ('https://dsdik.wroc.pl/' + a['href'], url.text)"
   ]
  },
  {
   "cell_type": "code",
   "execution_count": 32,
   "metadata": {},
   "outputs": [],
   "source": [
    "url = \"https://www.skyscrapercity.com\"\n",
    "headers = {'User-Agent': 'Mozilla/5.0 (Macintosh; Intel Mac OS X 10_10_1) AppleWebKit/537.36 (KHTML, like Gecko) Chrome/39.0.2171.95 Safari/537.36'}\n",
    "\n",
    "response = requests.get(url, headers=headers)\n",
    "\n",
    "soup = BeautifulSoup(response.text, 'lxml')"
   ]
  },
  {
   "cell_type": "code",
   "execution_count": null,
   "metadata": {},
   "outputs": [],
   "source": [
    "options = webdriver.ChromeOptions()\n",
    "driver.add_experimental_option(\"excludeSwitches\",[\"ignore-certificate-errors\"])\n",
    "driver.add_argument('headless')\n",
    "driver.add_argument('window-size=0x0')\n",
    "chrome_driver_path = \"C:\\Python27\\Scripts\\chromedriver.exe\""
   ]
  },
  {
   "cell_type": "code",
   "execution_count": 12,
   "metadata": {},
   "outputs": [],
   "source": [
    "import requests, bs4\n",
    "from selenium import webdriver\n",
    "import re\n",
    "\n",
    "# put the path to chromedriver\n",
    "driver = webdriver.Chrome('C:/webdriver/chromedriver') \n",
    "driver.add_argument('headless')\n",
    "website = \"https://www.skyscrapercity.com/showthread.php?t=363769&page=1480\"\n",
    "driver.get(website) \n",
    "html = driver.page_source\n",
    "soup = bs4.BeautifulSoup(html, \"html.parser\")\n",
    "\n",
    "#element = soup.find_all('br')\n",
    "#print(element)"
   ]
  },
  {
   "cell_type": "code",
   "execution_count": 36,
   "metadata": {},
   "outputs": [
    {
     "name": "stdout",
     "output_type": "stream",
     "text": [
      "Obwodnica Węgorzyna\n",
      "Umowa na budowę obwodnicy Węgorzyna w ciągu DK20 podpisana. Firma PRD Nowogard do końca października 2020 roku wybuduje drogę, która umożliwi całkowite ominięcie Węgorzyna przez tranzyt w ciągu drogi krajowej.\n",
      "https://twitter.com/GDDKiA_Szczecin/...17108919447553 \n",
      "\n",
      "\n",
      "[S12]\n",
      "Piaski - Dorohusk\n",
      "-\n",
      "Podpisano umowy na KP \n",
      "\n",
      "\n"
     ]
    }
   ],
   "source": [
    "keys = ('węgorzyna|dorohusk')\n",
    "for div in soup.select('[id^=post_message]'):\n",
    "    if re.findall(keys, str(div).lower()):\n",
    "        print(div.get_text(\"\\n\", strip=True), \"\\n\\n\")"
   ]
  },
  {
   "cell_type": "code",
   "execution_count": 33,
   "metadata": {},
   "outputs": [
    {
     "name": "stderr",
     "output_type": "stream",
     "text": [
      "C:\\Users\\nikpi\\Anaconda3\\lib\\site-packages\\ipykernel_launcher.py:11: DeprecationWarning: use options instead of chrome_options\n",
      "  # This is added back by InteractiveShellApp.init_path()\n"
     ]
    }
   ],
   "source": [
    "import requests, bs4\n",
    "from selenium import webdriver\n",
    "import re\n",
    " \n",
    "chromedriver = 'C:/webdriver/chromedriver'\n",
    " \n",
    "options = webdriver.ChromeOptions()\n",
    "options.add_argument('headless')\n",
    "options.add_argument('window-size=1200x600') # optional\n",
    " \n",
    "browser = webdriver.Chrome(executable_path=chromedriver, chrome_options=options)\n",
    " \n",
    "browser.get('https://www.skyscrapercity.com/showthread.php?t=363769&page=1480')\n",
    "html = browser.page_source\n",
    "soup = bs4.BeautifulSoup(html, \"html.parser\")\n",
    "\n",
    " \n",
    "#browser.quit()"
   ]
  },
  {
   "cell_type": "code",
   "execution_count": null,
   "metadata": {},
   "outputs": [],
   "source": []
  }
 ],
 "metadata": {
  "kernelspec": {
   "display_name": "Python 3",
   "language": "python",
   "name": "python3"
  },
  "language_info": {
   "codemirror_mode": {
    "name": "ipython",
    "version": 3
   },
   "file_extension": ".py",
   "mimetype": "text/x-python",
   "name": "python",
   "nbconvert_exporter": "python",
   "pygments_lexer": "ipython3",
   "version": "3.6.7"
  }
 },
 "nbformat": 4,
 "nbformat_minor": 2
}
