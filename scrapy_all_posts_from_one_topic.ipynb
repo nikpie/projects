{
 "cells": [
  {
   "cell_type": "code",
   "execution_count": null,
   "metadata": {},
   "outputs": [],
   "source": [
    "import requests, bs4\n",
    "import pandas as pd\n",
    "from selenium import webdriver\n",
    "\n",
    "chromedriver = 'C:/webdriver/chromedriver'\n",
    " \n",
    "options = webdriver.ChromeOptions()\n",
    "options.add_argument('headless')\n",
    "options.add_argument('window-size=1200x600') # optional\n",
    " \n",
    "browser = webdriver.Chrome(executable_path=chromedriver, chrome_options=options)\n",
    "strona = 'https://www.skyscrapercity.com/showthread.php?t=363769&page='\n",
    "posts = []\n",
    "\n",
    "for i in range(1,149):\n",
    "    browser.get(strona+str(i))\n",
    "    print(browser)\n",
    "    html = browser.page_source\n",
    "    soup = bs4.BeautifulSoup(html, \"html.parser\")\n",
    "    for div in soup.select('[id^=post_message]'):\n",
    "        posts.append(div.get_text(\"\\n\", strip=True))\n",
    "\n",
    "df = pd.DataFrame(posts, columns=[\"posty\"])\n",
    "df.to_csv('posts.csv', index=False)\n",
    " "
   ]
  }
 ],
 "metadata": {
  "kernelspec": {
   "display_name": "Python 3",
   "language": "python",
   "name": "python3"
  },
  "language_info": {
   "codemirror_mode": {
    "name": "ipython",
    "version": 3
   },
   "file_extension": ".py",
   "mimetype": "text/x-python",
   "name": "python",
   "nbconvert_exporter": "python",
   "pygments_lexer": "ipython3",
   "version": "3.6.7"
  }
 },
 "nbformat": 4,
 "nbformat_minor": 2
}
